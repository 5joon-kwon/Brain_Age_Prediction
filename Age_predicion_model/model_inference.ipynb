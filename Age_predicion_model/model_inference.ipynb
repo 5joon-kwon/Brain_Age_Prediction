{
 "cells": [
  {
   "cell_type": "code",
   "execution_count": 1,
   "id": "5d00df71",
   "metadata": {},
   "outputs": [
    {
     "name": "stderr",
     "output_type": "stream",
     "text": [
      "2024-06-06 11:21:34.113385: I tensorflow/core/util/port.cc:111] oneDNN custom operations are on. You may see slightly different numerical results due to floating-point round-off errors from different computation orders. To turn them off, set the environment variable `TF_ENABLE_ONEDNN_OPTS=0`.\n",
      "2024-06-06 11:21:34.147597: E tensorflow/compiler/xla/stream_executor/cuda/cuda_dnn.cc:9342] Unable to register cuDNN factory: Attempting to register factory for plugin cuDNN when one has already been registered\n",
      "2024-06-06 11:21:34.147627: E tensorflow/compiler/xla/stream_executor/cuda/cuda_fft.cc:609] Unable to register cuFFT factory: Attempting to register factory for plugin cuFFT when one has already been registered\n",
      "2024-06-06 11:21:34.147647: E tensorflow/compiler/xla/stream_executor/cuda/cuda_blas.cc:1518] Unable to register cuBLAS factory: Attempting to register factory for plugin cuBLAS when one has already been registered\n",
      "2024-06-06 11:21:34.153827: I tensorflow/core/platform/cpu_feature_guard.cc:182] This TensorFlow binary is optimized to use available CPU instructions in performance-critical operations.\n",
      "To enable the following instructions: AVX2 AVX512F AVX512_VNNI FMA, in other operations, rebuild TensorFlow with the appropriate compiler flags.\n",
      "2024-06-06 11:21:34.867702: W tensorflow/compiler/tf2tensorrt/utils/py_utils.cc:38] TF-TRT Warning: Could not find TensorRT\n"
     ]
    }
   ],
   "source": [
    "import os \n",
    "\n",
    "import pandas as pd \n",
    "import numpy as np \n",
    "from tqdm import tqdm\n",
    "import glob\n",
    "\n",
    "import torch\n",
    "import torch.nn as nn \n",
    "from torch.utils.data import DataLoader\n",
    "\n",
    "from torchvision import transforms\n",
    "import torch.nn.functional as F\n",
    "import nibabel as nib\n",
    "\n",
    "from sklearn.model_selection import KFold\n",
    "\n",
    "import matplotlib.pyplot as plt \n",
    "\n",
    "from monai.transforms import *\n",
    "from monai.utils import set_determinism, first\n",
    "\n",
    "from monai.data import (\n",
    "    DataLoader,\n",
    "    Dataset,\n",
    "    CacheDataset,\n",
    "    load_decathlon_datalist,\n",
    "    decollate_batch,\n",
    ")"
   ]
  },
  {
   "cell_type": "code",
   "execution_count": 2,
   "id": "fede5c95",
   "metadata": {},
   "outputs": [],
   "source": [
    "from dp_model.model_files.multi_sfcn import MultiSFCN\n",
    "from dp_model import dp_loss as dpl\n",
    "from dp_model import dp_utils as dpu\n",
    "import torch\n",
    "import torch.nn.functional as F\n",
    "import numpy as np\n",
    "import matplotlib.pyplot as plt\n",
    "import os\n",
    "import pandas as pd"
   ]
  },
  {
   "cell_type": "code",
   "execution_count": 3,
   "id": "2cf9ffcf",
   "metadata": {},
   "outputs": [
    {
     "data": {
      "text/html": [
       "<div>\n",
       "<style scoped>\n",
       "    .dataframe tbody tr th:only-of-type {\n",
       "        vertical-align: middle;\n",
       "    }\n",
       "\n",
       "    .dataframe tbody tr th {\n",
       "        vertical-align: top;\n",
       "    }\n",
       "\n",
       "    .dataframe thead th {\n",
       "        text-align: right;\n",
       "    }\n",
       "</style>\n",
       "<table border=\"1\" class=\"dataframe\">\n",
       "  <thead>\n",
       "    <tr style=\"text-align: right;\">\n",
       "      <th></th>\n",
       "      <th>idx</th>\n",
       "      <th>f</th>\n",
       "      <th>age</th>\n",
       "      <th>sex</th>\n",
       "      <th>height</th>\n",
       "      <th>weight</th>\n",
       "    </tr>\n",
       "  </thead>\n",
       "  <tbody>\n",
       "    <tr>\n",
       "      <th>0</th>\n",
       "      <td>1</td>\n",
       "      <td>IXI002-Guys-0828-T1.nii.gz</td>\n",
       "      <td>35.800137</td>\n",
       "      <td>2</td>\n",
       "      <td>164</td>\n",
       "      <td>58</td>\n",
       "    </tr>\n",
       "    <tr>\n",
       "      <th>1</th>\n",
       "      <td>2</td>\n",
       "      <td>IXI012-HH-1211-T1.nii.gz</td>\n",
       "      <td>38.781656</td>\n",
       "      <td>1</td>\n",
       "      <td>175</td>\n",
       "      <td>70</td>\n",
       "    </tr>\n",
       "    <tr>\n",
       "      <th>2</th>\n",
       "      <td>3</td>\n",
       "      <td>IXI013-HH-1212-T1.nii.gz</td>\n",
       "      <td>46.710472</td>\n",
       "      <td>1</td>\n",
       "      <td>182</td>\n",
       "      <td>70</td>\n",
       "    </tr>\n",
       "    <tr>\n",
       "      <th>3</th>\n",
       "      <td>4</td>\n",
       "      <td>IXI014-HH-1236-T1.nii.gz</td>\n",
       "      <td>34.236824</td>\n",
       "      <td>2</td>\n",
       "      <td>163</td>\n",
       "      <td>65</td>\n",
       "    </tr>\n",
       "    <tr>\n",
       "      <th>4</th>\n",
       "      <td>5</td>\n",
       "      <td>IXI015-HH-1258-T1.nii.gz</td>\n",
       "      <td>24.284736</td>\n",
       "      <td>1</td>\n",
       "      <td>181</td>\n",
       "      <td>90</td>\n",
       "    </tr>\n",
       "    <tr>\n",
       "      <th>...</th>\n",
       "      <td>...</td>\n",
       "      <td>...</td>\n",
       "      <td>...</td>\n",
       "      <td>...</td>\n",
       "      <td>...</td>\n",
       "      <td>...</td>\n",
       "    </tr>\n",
       "    <tr>\n",
       "      <th>495</th>\n",
       "      <td>496</td>\n",
       "      <td>IXI648-Guys-1107-T1.nii.gz</td>\n",
       "      <td>47.723477</td>\n",
       "      <td>1</td>\n",
       "      <td>193</td>\n",
       "      <td>120</td>\n",
       "    </tr>\n",
       "    <tr>\n",
       "      <th>496</th>\n",
       "      <td>497</td>\n",
       "      <td>IXI651-Guys-1118-T1.nii.gz</td>\n",
       "      <td>50.395619</td>\n",
       "      <td>1</td>\n",
       "      <td>175</td>\n",
       "      <td>61</td>\n",
       "    </tr>\n",
       "    <tr>\n",
       "      <th>497</th>\n",
       "      <td>498</td>\n",
       "      <td>IXI652-Guys-1116-T1.nii.gz</td>\n",
       "      <td>42.989733</td>\n",
       "      <td>1</td>\n",
       "      <td>163</td>\n",
       "      <td>80</td>\n",
       "    </tr>\n",
       "    <tr>\n",
       "      <th>498</th>\n",
       "      <td>499</td>\n",
       "      <td>IXI653-Guys-1122-T1.nii.gz</td>\n",
       "      <td>46.220397</td>\n",
       "      <td>1</td>\n",
       "      <td>172</td>\n",
       "      <td>100</td>\n",
       "    </tr>\n",
       "    <tr>\n",
       "      <th>499</th>\n",
       "      <td>500</td>\n",
       "      <td>IXI662-Guys-1120-T1.nii.gz</td>\n",
       "      <td>41.741273</td>\n",
       "      <td>1</td>\n",
       "      <td>182</td>\n",
       "      <td>98</td>\n",
       "    </tr>\n",
       "  </tbody>\n",
       "</table>\n",
       "<p>500 rows × 6 columns</p>\n",
       "</div>"
      ],
      "text/plain": [
       "     idx                           f        age  sex  height  weight\n",
       "0      1  IXI002-Guys-0828-T1.nii.gz  35.800137    2     164      58\n",
       "1      2    IXI012-HH-1211-T1.nii.gz  38.781656    1     175      70\n",
       "2      3    IXI013-HH-1212-T1.nii.gz  46.710472    1     182      70\n",
       "3      4    IXI014-HH-1236-T1.nii.gz  34.236824    2     163      65\n",
       "4      5    IXI015-HH-1258-T1.nii.gz  24.284736    1     181      90\n",
       "..   ...                         ...        ...  ...     ...     ...\n",
       "495  496  IXI648-Guys-1107-T1.nii.gz  47.723477    1     193     120\n",
       "496  497  IXI651-Guys-1118-T1.nii.gz  50.395619    1     175      61\n",
       "497  498  IXI652-Guys-1116-T1.nii.gz  42.989733    1     163      80\n",
       "498  499  IXI653-Guys-1122-T1.nii.gz  46.220397    1     172     100\n",
       "499  500  IXI662-Guys-1120-T1.nii.gz  41.741273    1     182      98\n",
       "\n",
       "[500 rows x 6 columns]"
      ]
     },
     "execution_count": 3,
     "metadata": {},
     "output_type": "execute_result"
    }
   ],
   "source": [
    "csv = './IXI_train.csv'\n",
    "df = pd.read_csv(csv)\n",
    "df"
   ]
  },
  {
   "cell_type": "code",
   "execution_count": 4,
   "id": "e3a5158e",
   "metadata": {},
   "outputs": [],
   "source": [
    "TRAIN_CSV_PATH = './IXI_train.csv'\n",
    "DATA_PATH = '/mnt/babymri/data_age_mni1mm'"
   ]
  },
  {
   "cell_type": "code",
   "execution_count": 5,
   "id": "42243cd0-fbfe-48d4-b90b-5a5054fa9347",
   "metadata": {},
   "outputs": [
    {
     "data": {
      "text/plain": [
       "'/home/oj/ycm'"
      ]
     },
     "execution_count": 5,
     "metadata": {},
     "output_type": "execute_result"
    }
   ],
   "source": [
    "pwd"
   ]
  },
  {
   "cell_type": "code",
   "execution_count": 6,
   "id": "555f2409",
   "metadata": {},
   "outputs": [],
   "source": [
    "# 프로젝트 폴더 생성\n",
    "project_name = \"multi_sfcn\"\n",
    "data_root = '/home/oj/ycm'\n",
    "    \n",
    "# for name in subdir_li:\n",
    "#     subdir_path = f'{dir_path}/{name}'\n",
    "#     if os.path.exists(subdir_path) == False :\n",
    "#         os.mkdir(subdir_path)"
   ]
  },
  {
   "cell_type": "markdown",
   "id": "4c895e95",
   "metadata": {},
   "source": [
    "## 3D_T1_reg_PD.nii.gz 있는 폴더만 가져오기"
   ]
  },
  {
   "cell_type": "code",
   "execution_count": 7,
   "id": "b61c6780",
   "metadata": {},
   "outputs": [
    {
     "name": "stdout",
     "output_type": "stream",
     "text": [
      "477\n"
     ]
    }
   ],
   "source": [
    "## 3D_T1_reg_PD.nii.gz가 nas에 있으면 가져오기\n",
    "\n",
    "import glob\n",
    "\n",
    "# data_pattern = '/mnt/babymri/data_age_mni1mm/*/TOF_bet.nii.gz'\n",
    "data_pattern = '/mnt/babymri/data_age_mni1mm/*/T1_aseg.nii.gz'\n",
    "\n",
    "# 해당 패턴에 매칭되는 모든 파일 경로 가져오기\n",
    "all_files = glob.glob(data_pattern, recursive=True)\n",
    "\n",
    "# '3D_T1_reg_PD.nii.gz' 파일이 있는 디렉토리만 추출\n",
    "directories_with_file = [os.path.dirname(file) for file in all_files if os.path.isfile(file)]\n",
    "\n",
    "# 결과 출력\n",
    "# for directory in directories_with_file:\n",
    "#     print(directory)\n",
    "\n",
    "print(len(directories_with_file))"
   ]
  },
  {
   "cell_type": "code",
   "execution_count": 8,
   "id": "53c940d7",
   "metadata": {},
   "outputs": [
    {
     "name": "stdout",
     "output_type": "stream",
     "text": [
      "488\n"
     ]
    }
   ],
   "source": [
    "## csv f축 가져오기\n",
    "\n",
    "image_paths = []\n",
    "labels = []\n",
    "for idx, row in df.iterrows(): # df 각 row 돌면서 index랑 row 정보(tuple) 저장\n",
    "    filename = os.path.join(DATA_PATH, row['f'].replace('-T1.nii.gz', ''))\n",
    "\n",
    "    if os.path.exists(filename):\n",
    "        image_paths.append(filename)\n",
    "print(len(image_paths))"
   ]
  },
  {
   "cell_type": "code",
   "execution_count": 9,
   "id": "f01bec8f",
   "metadata": {},
   "outputs": [
    {
     "name": "stdout",
     "output_type": "stream",
     "text": [
      "442\n"
     ]
    }
   ],
   "source": [
    "## csv와 nas에 둘다 존재하는 파일 + 3D_T1_reg_PD.nii.gz 존재\n",
    "\n",
    "exist_image = []\n",
    "for image in directories_with_file:\n",
    "    if image in image_paths:\n",
    "        exist_image.append(image)\n",
    "        \n",
    "print(len(exist_image))"
   ]
  },
  {
   "cell_type": "code",
   "execution_count": 10,
   "id": "de61505c",
   "metadata": {},
   "outputs": [
    {
     "name": "stdout",
     "output_type": "stream",
     "text": [
      "442 442 442 442\n"
     ]
    }
   ],
   "source": [
    "## image, label 가져오기\n",
    "\n",
    "image_paths = []\n",
    "tof_paths = []\n",
    "mask_paths = []\n",
    "labels = []\n",
    "for idx, row in df.iterrows(): # df 각 row 돌면서 index랑 row 정보(tuple) 저장\n",
    "    filename = os.path.join(DATA_PATH, row['f'].replace('-T1.nii.gz', ''))\n",
    "#     filename = os.path.join(DATA_PATH, row['f'].replace('-T1.nii.gz', ''), 'nifti', '3D_T1_reg_PD.nii.gz')\n",
    "    if filename in exist_image:\n",
    "        t1name = os.path.join(filename, 'T1_bet.nii.gz')\n",
    "        tofname = os.path.join(filename, 'TOF_bet.nii.gz')\n",
    "        maskname = os.path.join(filename, 'T1_aseg.nii.gz')\n",
    "        image_paths.append(t1name)\n",
    "        tof_paths.append(tofname)\n",
    "        mask_paths.append(maskname)\n",
    "        labels.append(int(row['age']))\n",
    "print(len(image_paths),len(tof_paths),len(mask_paths), len(labels))"
   ]
  },
  {
   "cell_type": "code",
   "execution_count": 11,
   "id": "aaac65f0-38b0-4f5f-9663-5f91974b3ecd",
   "metadata": {},
   "outputs": [],
   "source": [
    "data_ind = np.arange(0,len(image_paths))\n",
    "data_dict = [\n",
    "    {\n",
    "        \"t1\": image_paths[ind],\n",
    "        \"tof\": tof_paths[ind],\n",
    "        \"mask\": mask_paths[ind],\n",
    "        \"label\": labels[ind]\n",
    "    }\n",
    "    for ind in data_ind\n",
    "]\n",
    "\n",
    "train_Data = data_dict[88:]\n",
    "val_Data = data_dict[:88]\n",
    "n_train = len(train_Data)\n",
    "n_valid = len(val_Data)"
   ]
  },
  {
   "cell_type": "code",
   "execution_count": 12,
   "id": "419c0160",
   "metadata": {
    "scrolled": true
   },
   "outputs": [],
   "source": [
    "train_transform =Compose([\n",
    "    LoadImaged(keys=[\"t1\",\"tof\"]),\n",
    "    EnsureChannelFirstd(keys=[\"t1\",\"tof\"]),\n",
    "    # RandGaussianSmoothd(\n",
    "    #     keys=[\"t1\",\"tof\"],\n",
    "    #     sigma_x=(0.25, 1.5),\n",
    "    #     sigma_y=(0.25, 1.5),\n",
    "    #     sigma_z=(0.25, 1.5),\n",
    "    #     approx=\"erf\",\n",
    "    #     prob=0.3,\n",
    "    #     allow_missing_keys=False,\n",
    "    # ),\n",
    "    # RandGaussianNoised(keys=[\"t1\",\"tof\"],\n",
    "    #                        prob=0.5, mean=0, std=25, \n",
    "    #                        allow_missing_keys=False), \n",
    "    CenterSpatialCropd(\n",
    "        keys=[\"t1\",\"tof\"],\n",
    "        roi_size=(164,192,164)  \n",
    "    ),\n",
    "    RandSpatialCropd(keys=[\"t1\",\"tof\"],\n",
    "                         roi_size=(160,192,160), \n",
    "                         max_roi_size=None, \n",
    "                         random_center=True, \n",
    "                         random_size=False\n",
    "                        ),\n",
    "    # RandFlipd(\n",
    "    #         keys=[\"t1\",\"tof\"],\n",
    "    #         spatial_axis=[0],\n",
    "    #         prob=0.5,\n",
    "    #     ),\n",
    "    ToTensord(\n",
    "        keys=[\"t1\",\"tof\"]\n",
    "    ),\n",
    "])\n",
    "\n",
    "valid_transform = Compose([\n",
    "    LoadImaged(keys=[\"t1\",\"tof\", \"mask\"]),\n",
    "    EnsureChannelFirstd(keys=[\"t1\",\"tof\",\"mask\"]),\n",
    "    CenterSpatialCropd(\n",
    "        keys=[\"t1\",\"tof\",\"mask\"],\n",
    "        roi_size=(160,192,160)  \n",
    "    ),\n",
    "    ToTensord(\n",
    "        keys=[\"t1\",\"tof\",\"mask\"]\n",
    "    ),\n",
    "])"
   ]
  },
  {
   "cell_type": "code",
   "execution_count": 13,
   "id": "3976eac5-f941-4efc-a66f-1b167382a059",
   "metadata": {},
   "outputs": [],
   "source": [
    "train_ds = Dataset(\n",
    "    data=train_Data,\n",
    "    transform=valid_transform,\n",
    ")\n",
    "train_loader = DataLoader(\n",
    "    train_ds, batch_size=2, shuffle=True,\n",
    ")"
   ]
  },
  {
   "cell_type": "code",
   "execution_count": 14,
   "id": "24824c9c-c8d2-418a-b846-1fafa413dc19",
   "metadata": {},
   "outputs": [],
   "source": [
    "val_ds = Dataset(\n",
    "    data=val_Data,\n",
    "    transform=valid_transform,\n",
    ")\n",
    "valid_loader = DataLoader(\n",
    "    val_ds, batch_size=1, shuffle=False, \n",
    ")"
   ]
  },
  {
   "cell_type": "code",
   "execution_count": 15,
   "id": "2ea49d0f-88fe-4069-8ed2-4328b38d0d40",
   "metadata": {},
   "outputs": [],
   "source": [
    "all_ds = Dataset(\n",
    "    data=data_dict,\n",
    "    transform=valid_transform,\n",
    ")\n",
    "all_loader = DataLoader(\n",
    "    all_ds, batch_size=1, shuffle=False, \n",
    ")"
   ]
  },
  {
   "cell_type": "code",
   "execution_count": 16,
   "id": "ff678ed8-48d5-410b-b961-1794b4a8bdc5",
   "metadata": {},
   "outputs": [],
   "source": [
    "t1_tof_strange_idx = [0, 7, 10, 14, 19, 25, 28, 36, 44, 52, 55, 67, 94, 126, 142, 148, 196, 246, 253, 269, 295, 296, 302, 314, 326, 327, 365,\n",
    "397, 410]\n",
    "t1_strange_idx = [0, 10, 14, 44, 55, 67, 148, 149, 158, 202, 212, 246, 253, 292, 295, 296, 302, 314, 322, 324, 327, 366, 370]\n",
    "tof_strange_idx = [0, 7, 14, 44, 55, 67, 103, 142, 327, 365, 410]"
   ]
  },
  {
   "cell_type": "code",
   "execution_count": 17,
   "id": "8f8ba1bd-c644-44c0-80e8-d56022da9541",
   "metadata": {},
   "outputs": [],
   "source": [
    "def filter_data_by_indices(data_dict, indices):\n",
    "    filtered_data = [data_dict[i] for i in indices]\n",
    "    return filtered_data"
   ]
  },
  {
   "cell_type": "code",
   "execution_count": 18,
   "id": "6a5f8d61-fecd-4f26-96f7-232eee090f24",
   "metadata": {},
   "outputs": [
    {
     "name": "stdout",
     "output_type": "stream",
     "text": [
      "29 23 11\n"
     ]
    }
   ],
   "source": [
    "t1_tof_strange_data = filter_data_by_indices(data_dict, t1_tof_strange_idx)\n",
    "t1_strange_data = filter_data_by_indices(data_dict, t1_strange_idx)\n",
    "tof_strange_data = filter_data_by_indices(data_dict, tof_strange_idx)\n",
    "print(len(t1_tof_strange_data), len(t1_strange_data), len(tof_strange_data))"
   ]
  },
  {
   "cell_type": "code",
   "execution_count": 19,
   "id": "644deba7-a974-4c7d-86c8-7496396844a6",
   "metadata": {},
   "outputs": [],
   "source": [
    "t1_tof_ds = Dataset(\n",
    "    data=t1_tof_strange_data,\n",
    "    transform=valid_transform,\n",
    ")\n",
    "t1_tof_loader = DataLoader(\n",
    "    t1_tof_ds, batch_size=1, shuffle=False, \n",
    ")\n",
    "t1_ds = Dataset(\n",
    "    data=t1_strange_data,\n",
    "    transform=valid_transform,\n",
    ")\n",
    "t1_loader = DataLoader(\n",
    "    t1_ds, batch_size=1, shuffle=False, \n",
    ")\n",
    "tof_ds = Dataset(\n",
    "    data=tof_strange_data,\n",
    "    transform=valid_transform,\n",
    ")\n",
    "tof_loader = DataLoader(\n",
    "    tof_ds, batch_size=1, shuffle=False, \n",
    ")"
   ]
  },
  {
   "cell_type": "code",
   "execution_count": 20,
   "id": "126ee5e8-827b-433e-8d8f-7a9549381cea",
   "metadata": {},
   "outputs": [],
   "source": [
    "import torch\n",
    "import torch.nn as nn\n",
    "import torch.nn.functional as F\n",
    "\n",
    "class MultiSFCN(nn.Module):\n",
    "    def __init__(self, channel_number=[32, 64, 128, 256, 256, 64], output_dim=40, dropout=True):\n",
    "        super(MultiSFCN, self).__init__()\n",
    "        n_layer = len(channel_number)\n",
    "        \n",
    "        # Define encoders for each contrast\n",
    "        self.encoder1 = self._make_encoder(channel_number)\n",
    "        self.encoder2 = self._make_encoder(channel_number)\n",
    "        \n",
    "        # Classifier\n",
    "        self.x1_classifier = self._make_classifier(channel_number[-1], output_dim, dropout)\n",
    "        self.x2_classifier = self._make_classifier(channel_number[-1], output_dim, dropout)\n",
    "        self.classifier = self._make_classifier(128, output_dim, dropout)  # Multiply by 2 for concatenated features\n",
    "\n",
    "    def _make_encoder(self, channel_number):\n",
    "        encoder = nn.Sequential()\n",
    "        n_layer = len(channel_number)\n",
    "        for i in range(n_layer):\n",
    "            if i == 0:\n",
    "                in_channel = 1  # Input channels for the first layer\n",
    "            else:\n",
    "                in_channel = channel_number[i-1]  # Input channels for subsequent layers\n",
    "            out_channel = channel_number[i]\n",
    "            if i < n_layer-1:\n",
    "                encoder.add_module('conv_%d' % i, self.conv_layer(in_channel,\n",
    "                                                                       out_channel,\n",
    "                                                                       maxpool=True,\n",
    "                                                                       kernel_size=3,\n",
    "                                                                       padding=1))\n",
    "            else:\n",
    "                encoder.add_module('conv_%d' % i, self.conv_layer(in_channel,\n",
    "                                                                       out_channel,\n",
    "                                                                       maxpool=False,\n",
    "                                                                       kernel_size=1,\n",
    "                                                                       padding=0))\n",
    "        return encoder\n",
    "    def _upsample(self, in_channels, out_channels):\n",
    "        # Define upsampling layers\n",
    "        upsample = nn.Sequential(\n",
    "            nn.ConvTranspose3d(in_channels=40, out_channels=64, kernel_size=(5,6,5), stride=1, padding=0),\n",
    "            nn.ReLU()\n",
    "        )\n",
    "        # Apply upsampling\n",
    "        return upsample\n",
    "        \n",
    "    def _make_combine_conv(self, in_channels, out_channels):\n",
    "        layer = nn.Sequential(\n",
    "            nn.Conv3d(in_channels, out_channels, kernel_size=1, padding=0),\n",
    "            nn.BatchNorm3d(out_channels),\n",
    "            nn.ReLU()\n",
    "        )\n",
    "\n",
    "        return layer\n",
    "        \n",
    "    def _make_classifier(self, in_channels, output_dim, dropout):\n",
    "        classifier = nn.Sequential()\n",
    "        avg_shape = [5, 6, 5]\n",
    "        classifier.add_module('average_pool', nn.AvgPool3d(avg_shape))\n",
    "        if dropout is True:\n",
    "            classifier.add_module('dropout', nn.Dropout(0.5))\n",
    "        classifier.add_module('conv', nn.Conv3d(in_channels, output_dim, padding=0, kernel_size=1))\n",
    "        return classifier\n",
    "\n",
    "    @staticmethod\n",
    "    def conv_layer(in_channel, out_channel, maxpool=True, kernel_size=3, padding=0, maxpool_stride=2):\n",
    "        if maxpool is True:\n",
    "            layer = nn.Sequential(\n",
    "                nn.Conv3d(in_channel, out_channel, padding=padding, kernel_size=kernel_size),\n",
    "                nn.BatchNorm3d(out_channel),\n",
    "                nn.MaxPool3d(2, stride=maxpool_stride),\n",
    "                nn.ReLU()\n",
    "            )\n",
    "        else:\n",
    "            layer = nn.Sequential(\n",
    "                nn.Conv3d(in_channel, out_channel, padding=padding, kernel_size=kernel_size),\n",
    "                nn.BatchNorm3d(out_channel),\n",
    "                nn.ReLU()\n",
    "            )\n",
    "        return layer\n",
    "\n",
    "    def forward(self, x):\n",
    "        # Forward pass through each encoder\n",
    "        x1 = x[:, 0, ...]\n",
    "        x2 = x[:, 1, ...]\n",
    "        x1_f = self.encoder1(x1) #[bs, 64, 5, 6, 5]\n",
    "        x2_f = self.encoder2(x2)\n",
    "\n",
    "        combined_features = torch.cat((x1_f, x2_f), dim=1) # [bs, 128, 5, 6, 5]\n",
    "\n",
    "        output = self.classifier(combined_features) # [bs, 40, 1, 1, 1]\n",
    "        x1_out = self.x1_classifier(x1_f)\n",
    "        x2_out = self.x2_classifier(x2_f)\n",
    "        \n",
    "        output = F.log_softmax(output, dim=1)\n",
    "        x1_out = F.log_softmax(x1_out, dim=1)\n",
    "        x2_out = F.log_softmax(x2_out, dim=1)\n",
    "        \n",
    "        return output, x1_out, x2_out\n"
   ]
  },
  {
   "cell_type": "code",
   "execution_count": 21,
   "id": "ff1e3afc",
   "metadata": {
    "scrolled": true
   },
   "outputs": [
    {
     "name": "stdout",
     "output_type": "stream",
     "text": [
      "GPU CHECK : True\n"
     ]
    },
    {
     "data": {
      "text/plain": [
       "DataParallel(\n",
       "  (module): MultiSFCN(\n",
       "    (encoder1): Sequential(\n",
       "      (conv_0): Sequential(\n",
       "        (0): Conv3d(1, 32, kernel_size=(3, 3, 3), stride=(1, 1, 1), padding=(1, 1, 1))\n",
       "        (1): BatchNorm3d(32, eps=1e-05, momentum=0.1, affine=True, track_running_stats=True)\n",
       "        (2): MaxPool3d(kernel_size=2, stride=2, padding=0, dilation=1, ceil_mode=False)\n",
       "        (3): ReLU()\n",
       "      )\n",
       "      (conv_1): Sequential(\n",
       "        (0): Conv3d(32, 64, kernel_size=(3, 3, 3), stride=(1, 1, 1), padding=(1, 1, 1))\n",
       "        (1): BatchNorm3d(64, eps=1e-05, momentum=0.1, affine=True, track_running_stats=True)\n",
       "        (2): MaxPool3d(kernel_size=2, stride=2, padding=0, dilation=1, ceil_mode=False)\n",
       "        (3): ReLU()\n",
       "      )\n",
       "      (conv_2): Sequential(\n",
       "        (0): Conv3d(64, 128, kernel_size=(3, 3, 3), stride=(1, 1, 1), padding=(1, 1, 1))\n",
       "        (1): BatchNorm3d(128, eps=1e-05, momentum=0.1, affine=True, track_running_stats=True)\n",
       "        (2): MaxPool3d(kernel_size=2, stride=2, padding=0, dilation=1, ceil_mode=False)\n",
       "        (3): ReLU()\n",
       "      )\n",
       "      (conv_3): Sequential(\n",
       "        (0): Conv3d(128, 256, kernel_size=(3, 3, 3), stride=(1, 1, 1), padding=(1, 1, 1))\n",
       "        (1): BatchNorm3d(256, eps=1e-05, momentum=0.1, affine=True, track_running_stats=True)\n",
       "        (2): MaxPool3d(kernel_size=2, stride=2, padding=0, dilation=1, ceil_mode=False)\n",
       "        (3): ReLU()\n",
       "      )\n",
       "      (conv_4): Sequential(\n",
       "        (0): Conv3d(256, 256, kernel_size=(3, 3, 3), stride=(1, 1, 1), padding=(1, 1, 1))\n",
       "        (1): BatchNorm3d(256, eps=1e-05, momentum=0.1, affine=True, track_running_stats=True)\n",
       "        (2): MaxPool3d(kernel_size=2, stride=2, padding=0, dilation=1, ceil_mode=False)\n",
       "        (3): ReLU()\n",
       "      )\n",
       "      (conv_5): Sequential(\n",
       "        (0): Conv3d(256, 64, kernel_size=(1, 1, 1), stride=(1, 1, 1))\n",
       "        (1): BatchNorm3d(64, eps=1e-05, momentum=0.1, affine=True, track_running_stats=True)\n",
       "        (2): ReLU()\n",
       "      )\n",
       "    )\n",
       "    (encoder2): Sequential(\n",
       "      (conv_0): Sequential(\n",
       "        (0): Conv3d(1, 32, kernel_size=(3, 3, 3), stride=(1, 1, 1), padding=(1, 1, 1))\n",
       "        (1): BatchNorm3d(32, eps=1e-05, momentum=0.1, affine=True, track_running_stats=True)\n",
       "        (2): MaxPool3d(kernel_size=2, stride=2, padding=0, dilation=1, ceil_mode=False)\n",
       "        (3): ReLU()\n",
       "      )\n",
       "      (conv_1): Sequential(\n",
       "        (0): Conv3d(32, 64, kernel_size=(3, 3, 3), stride=(1, 1, 1), padding=(1, 1, 1))\n",
       "        (1): BatchNorm3d(64, eps=1e-05, momentum=0.1, affine=True, track_running_stats=True)\n",
       "        (2): MaxPool3d(kernel_size=2, stride=2, padding=0, dilation=1, ceil_mode=False)\n",
       "        (3): ReLU()\n",
       "      )\n",
       "      (conv_2): Sequential(\n",
       "        (0): Conv3d(64, 128, kernel_size=(3, 3, 3), stride=(1, 1, 1), padding=(1, 1, 1))\n",
       "        (1): BatchNorm3d(128, eps=1e-05, momentum=0.1, affine=True, track_running_stats=True)\n",
       "        (2): MaxPool3d(kernel_size=2, stride=2, padding=0, dilation=1, ceil_mode=False)\n",
       "        (3): ReLU()\n",
       "      )\n",
       "      (conv_3): Sequential(\n",
       "        (0): Conv3d(128, 256, kernel_size=(3, 3, 3), stride=(1, 1, 1), padding=(1, 1, 1))\n",
       "        (1): BatchNorm3d(256, eps=1e-05, momentum=0.1, affine=True, track_running_stats=True)\n",
       "        (2): MaxPool3d(kernel_size=2, stride=2, padding=0, dilation=1, ceil_mode=False)\n",
       "        (3): ReLU()\n",
       "      )\n",
       "      (conv_4): Sequential(\n",
       "        (0): Conv3d(256, 256, kernel_size=(3, 3, 3), stride=(1, 1, 1), padding=(1, 1, 1))\n",
       "        (1): BatchNorm3d(256, eps=1e-05, momentum=0.1, affine=True, track_running_stats=True)\n",
       "        (2): MaxPool3d(kernel_size=2, stride=2, padding=0, dilation=1, ceil_mode=False)\n",
       "        (3): ReLU()\n",
       "      )\n",
       "      (conv_5): Sequential(\n",
       "        (0): Conv3d(256, 64, kernel_size=(1, 1, 1), stride=(1, 1, 1))\n",
       "        (1): BatchNorm3d(64, eps=1e-05, momentum=0.1, affine=True, track_running_stats=True)\n",
       "        (2): ReLU()\n",
       "      )\n",
       "    )\n",
       "    (x1_classifier): Sequential(\n",
       "      (average_pool): AvgPool3d(kernel_size=[5, 6, 5], stride=[5, 6, 5], padding=0)\n",
       "      (dropout): Dropout(p=0.5, inplace=False)\n",
       "      (conv): Conv3d(64, 40, kernel_size=(1, 1, 1), stride=(1, 1, 1))\n",
       "    )\n",
       "    (x2_classifier): Sequential(\n",
       "      (average_pool): AvgPool3d(kernel_size=[5, 6, 5], stride=[5, 6, 5], padding=0)\n",
       "      (dropout): Dropout(p=0.5, inplace=False)\n",
       "      (conv): Conv3d(64, 40, kernel_size=(1, 1, 1), stride=(1, 1, 1))\n",
       "    )\n",
       "    (classifier): Sequential(\n",
       "      (average_pool): AvgPool3d(kernel_size=[5, 6, 5], stride=[5, 6, 5], padding=0)\n",
       "      (dropout): Dropout(p=0.5, inplace=False)\n",
       "      (conv): Conv3d(128, 40, kernel_size=(1, 1, 1), stride=(1, 1, 1))\n",
       "    )\n",
       "  )\n",
       ")"
      ]
     },
     "execution_count": 21,
     "metadata": {},
     "output_type": "execute_result"
    }
   ],
   "source": [
    "device = torch.device(\"cuda\" if torch.cuda.is_available() else \"cpu\")\n",
    "print(f\"GPU CHECK : {True if device.type == 'cuda' else False}\")\n",
    "\n",
    "model = MultiSFCN()\n",
    "model = torch.nn.DataParallel(model)\n",
    "model = model.to(device)\n",
    "\n",
    "model"
   ]
  },
  {
   "cell_type": "code",
   "execution_count": 22,
   "id": "c0e8e0f4-5998-47de-af96-d2bfba22823c",
   "metadata": {},
   "outputs": [],
   "source": [
    "bin_range = [12,92]\n",
    "bin_step = 2\n",
    "sigma = 2"
   ]
  },
  {
   "cell_type": "code",
   "execution_count": 23,
   "id": "b528af43-e151-44c5-8466-87890dc502f3",
   "metadata": {},
   "outputs": [],
   "source": [
    "label = [20,80]\n",
    "y, bc = dpu.num2vect(label, bin_range, bin_step, sigma)\n",
    "y = torch.tensor(y, dtype=torch.float32)"
   ]
  },
  {
   "cell_type": "markdown",
   "id": "45970e4f-8f0e-4515-8791-9b30d4846309",
   "metadata": {},
   "source": [
    "## Inference"
   ]
  },
  {
   "cell_type": "code",
   "execution_count": 114,
   "id": "53e87eeb-9b2f-4a6c-ad3c-c0a442a71084",
   "metadata": {},
   "outputs": [
    {
     "data": {
      "text/plain": [
       "<All keys matched successfully>"
      ]
     },
     "execution_count": 114,
     "metadata": {},
     "output_type": "execute_result"
    }
   ],
   "source": [
    "model.load_state_dict(torch.load(\"./new_multi_sfcn/1/models/model_4.699.pth\", map_location=device))"
   ]
  },
  {
   "cell_type": "code",
   "execution_count": 115,
   "id": "8848d42d-50d5-4c5e-ab60-75f880e71832",
   "metadata": {},
   "outputs": [],
   "source": [
    "from sklearn.metrics import mean_absolute_error\n",
    "\n",
    "def calculate_mae(actual, predicted):\n",
    "    mae = mean_absolute_error(actual, predicted)\n",
    "    return mae"
   ]
  },
  {
   "cell_type": "code",
   "execution_count": 116,
   "id": "5bf2a284-bcf4-4ee1-82d1-7eb739465dad",
   "metadata": {},
   "outputs": [
    {
     "data": {
      "image/png": "[encoded data removed]",
      "text/plain": [
       "<Figure size 600x600 with 1 Axes>"
      ]
     },
     "metadata": {},
     "output_type": "display_data"
    },
    {
     "data": {
      "image/png": "[encoded data removed]",
      "text/plain": [
       "<Figure size 600x600 with 1 Axes>"
      ]
     },
     "metadata": {},
     "output_type": "display_data"
    },
    {
     "data": {
      "image/png": "[encoded data removed]",
      "text/plain": [
       "<Figure size 600x600 with 1 Axes>"
      ]
     },
     "metadata": {},
     "output_type": "display_data"
    }
   ],
   "source": [
    "actual_age = np.array([]) \n",
    "total_predicted_age = np.array([])\n",
    "t1_predicted_age = np.array([])\n",
    "tof_predicted_age = np.array([])\n",
    "\n",
    "t1_tof_strange_idx = []\n",
    "t1_strange_idx = []\n",
    "tof_strange_idx = []\n",
    "\n",
    "model.to(device)\n",
    "\n",
    "with torch.no_grad():\n",
    "    model.eval()\n",
    "    for step, batch in enumerate(t1_tof_loader):\n",
    "        t1, tof, labels = batch[\"t1\"].to(device), batch[\"tof\"].to(device), batch[\"label\"]\n",
    "        \n",
    "        bs = len(t1)\n",
    "        \n",
    "        t1 = t1 / t1.mean()\n",
    "        tof = tof / tof.mean()\n",
    "        inputs = torch.stack((t1, tof), dim=1)\n",
    "        \n",
    "        outputs,  t1_outputs, tof_outputs = model(inputs)\n",
    "        \n",
    "        x = outputs[0].detach().cpu().squeeze()\n",
    "        prob = np.exp(x)\n",
    "        pred = prob @ bc\n",
    "\n",
    "        t1_r = t1_outputs[0].detach().cpu().squeeze()\n",
    "        t1_prob = np.exp(t1_r.numpy())\n",
    "        t1_pred = t1_prob @ bc\n",
    "\n",
    "        tof_r = tof_outputs[0].detach().cpu().squeeze()\n",
    "        tof_prob = np.exp(tof_r.numpy())\n",
    "        tof_pred = tof_prob @ bc\n",
    "        \n",
    "        actual_age = np.append(actual_age, labels.cpu().numpy())\n",
    "        total_predicted_age = np.append(total_predicted_age, pred)\n",
    "        t1_predicted_age = np.append(t1_predicted_age, t1_pred)\n",
    "        tof_predicted_age = np.append(tof_predicted_age, tof_pred)\n",
    "\n",
    "        if(np.abs(pred - t1_pred) >= 10):\n",
    "            t1_strange_idx.append(step)\n",
    "        if(np.abs(pred - tof_pred) >= 10):\n",
    "            tof_strange_idx.append(step)\n",
    "        if(np.abs(t1_pred - tof_pred) >= 15):\n",
    "            t1_tof_strange_idx.append(step)\n",
    "\n",
    "    # Plot 1: Total Actual vs. Predicted Age\n",
    "    plt.figure(figsize=(6, 6))\n",
    "    plt.plot(np.arange(0, 100), np.arange(0, 100), linestyle='--', color='red', label='Perfect Prediction')\n",
    "    plt.scatter(actual_age, total_predicted_age, color='blue', label='Actual vs. Predicted')\n",
    "    plt.axis([0, 100, 0, 100])\n",
    "    plt.grid('minor')\n",
    "    mae_total = calculate_mae(actual_age, total_predicted_age)\n",
    "    plt.text(80, 20, f'Total MAE: {mae_total:.2f}', verticalalignment='bottom', horizontalalignment='right', color='green', fontsize=12)\n",
    "    plt.xlabel('Actual Age')\n",
    "    plt.ylabel('Predicted Age')\n",
    "    plt.title('Total Actual vs. Predicted Age')\n",
    "    plt.legend()\n",
    "    # plt.savefig('./new_multi_sfcn/1/total_age.png')\n",
    "    plt.show()\n",
    "\n",
    "    # Plot 2: T1 Actual vs. Predicted Age\n",
    "    plt.figure(figsize=(6, 6))\n",
    "    plt.plot(np.arange(0, 100), np.arange(0, 100), linestyle='--', color='red', label='Perfect Prediction')\n",
    "    plt.scatter(actual_age, t1_predicted_age, color='blue', label='Actual vs. Predicted')\n",
    "    plt.axis([0, 100, 0, 100])\n",
    "    plt.grid('minor')\n",
    "    mae_t1 = calculate_mae(actual_age, t1_predicted_age)\n",
    "    plt.text(80, 20, f'T1 MAE: {mae_t1:.2f}', verticalalignment='bottom', horizontalalignment='right', color='green', fontsize=12)\n",
    "    plt.xlabel('Actual Age')\n",
    "    plt.ylabel('Predicted Age')\n",
    "    plt.title('T1 Actual vs. Predicted Age')\n",
    "    plt.legend()\n",
    "    # plt.savefig('./new_multi_sfcn/1/t1_age.png')\n",
    "    plt.show()\n",
    "\n",
    "    # Plot 3: TOF Actual vs. Predicted Age\n",
    "    plt.figure(figsize=(6, 6))\n",
    "    plt.plot(np.arange(0, 100), np.arange(0, 100), linestyle='--', color='red', label='Perfect Prediction')\n",
    "    plt.scatter(actual_age, tof_predicted_age, color='blue', label='Actual vs. Predicted')\n",
    "    plt.axis([0, 100, 0, 100])\n",
    "    plt.grid('minor')\n",
    "    mae_tof = calculate_mae(actual_age, tof_predicted_age)\n",
    "    plt.text(80, 20, f'TOF MAE: {mae_tof:.2f}', verticalalignment='bottom', horizontalalignment='right', color='green', fontsize=12)\n",
    "    plt.xlabel('Actual Age')\n",
    "    plt.ylabel('Predicted Age')\n",
    "    plt.title('TOF Actual vs. Predicted Age')\n",
    "    plt.legend()\n",
    "    # plt.savefig('./new_multi_sfcn/1/tof_age.png')\n",
    "    plt.show()\n"
   ]
  }
 ],
 "metadata": {
  "kernelspec": {
   "display_name": "Python [conda env:med] *",
   "language": "python",
   "name": "conda-env-med-py"
  },
  "language_info": {
   "codemirror_mode": {
    "name": "ipython",
    "version": 3
   },
   "file_extension": ".py",
   "mimetype": "text/x-python",
   "name": "python",
   "nbconvert_exporter": "python",
   "pygments_lexer": "ipython3",
   "version": "3.11.3"
  }
 },
 "nbformat": 4,
 "nbformat_minor": 5
}
